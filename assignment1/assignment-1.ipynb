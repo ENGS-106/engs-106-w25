{
 "cells": [
  {
   "cell_type": "markdown",
   "metadata": {},
   "source": [
    "# Lab Assignment 1: Rock, Paper, Scissors"
   ]
  },
  {
   "cell_type": "markdown",
   "metadata": {},
   "source": [
    "## Write and Run Your Own Code to Implement a Rock-Paper-Scissors Model"
   ]
  },
  {
   "cell_type": "code",
   "execution_count": null,
   "metadata": {},
   "outputs": [],
   "source": [
    "# Library Declarations\n",
    "import numpy as np\n",
    "import random\n",
    "\n",
    "np.random.seed(0)\n",
    "random.seed(0)\n"
   ]
  },
  {
   "cell_type": "code",
   "execution_count": 19,
   "metadata": {
    "id": "S8rQSDc863tU"
   },
   "outputs": [
    {
     "name": "stdout",
     "output_type": "stream",
     "text": [
      "The data in this file has been stored in a NumPy array of size (5, 3).\n",
      "[[ 0  1  1]\n",
      " [ 0  2 -1]\n",
      " [ 1  0 -1]\n",
      " [ 2  0  1]\n",
      " [ 0  0  0]]\n"
     ]
    }
   ],
   "source": [
    "# Data extraction here: extract the data from the txt file to python input\n",
    "# One suggestion is using integers 0,1,2 for rock paper scissor\n",
    "# and using CPU guess, your guess and score (1 if you win; -1 if you lose; 0 for draw) as possible data\n",
    "demo_data = np.loadtxt(r\"./demo_data.txt\", dtype=int) .reshape(-1,3)\n",
    "print(\"The data in this file has been stored in a NumPy array of size {}.\".format(demo_data.shape))\n",
    "print(demo_data)"
   ]
  },
  {
   "cell_type": "code",
   "execution_count": 20,
   "metadata": {
    "id": "9F19p9g56wpU"
   },
   "outputs": [
    {
     "name": "stderr",
     "output_type": "stream",
     "text": [
      "C:\\Users\\werer\\AppData\\Local\\Temp\\ipykernel_7488\\135062288.py:4: UserWarning: loadtxt: input contained no data: \"./training.txt\"\n",
      "  history = np.loadtxt(r\"./training.txt\", dtype=int).reshape(-1,3)\n"
     ]
    }
   ],
   "source": [
    "np.random.seed(0)\n",
    "random.seed(0)\n",
    "\n",
    "history = np.loadtxt(r\"./training.txt\", dtype=int).reshape(-1,3)\n",
    "#Define your algorithm here or define your own functions and procedure\n",
    "def rock_paper_scissor(history=None, last_choice=None):\n",
    "    # define your function here\n",
    "    return random.randint(0,2)\n"
   ]
  },
  {
   "cell_type": "code",
   "execution_count": 21,
   "metadata": {},
   "outputs": [
    {
     "name": "stdout",
     "output_type": "stream",
     "text": [
      "Algorithm says you should choose: 1\n"
     ]
    }
   ],
   "source": [
    "print(f'Algorithm says you should choose: {rock_paper_scissor(history)}')"
   ]
  },
  {
   "cell_type": "markdown",
   "metadata": {},
   "source": [
    "## What to Submit?\n",
    "1. A link to your repository (remember to add your Lab TA as a collaborator to this repository, or they won't be able to grade your work!).\n",
    "2. Your training data in training.txt.\n",
    "3. Your model evaluation data.\n",
    "4. A brief write-up describing your algorithm in a couple of sentences, including figures if necessary (your design on paper).\n",
    "5. Finally, please individually briefly reflect on your experience in a couple of sentences. What are you taking away from this lab? "
   ]
  }
 ],
 "metadata": {
  "colab": {
   "provenance": []
  },
  "kernelspec": {
   "display_name": "Python 3",
   "language": "python",
   "name": "python3"
  },
  "language_info": {
   "codemirror_mode": {
    "name": "ipython",
    "version": 3
   },
   "file_extension": ".py",
   "mimetype": "text/x-python",
   "name": "python",
   "nbconvert_exporter": "python",
   "pygments_lexer": "ipython3",
   "version": "3.12.8"
  }
 },
 "nbformat": 4,
 "nbformat_minor": 4
}
